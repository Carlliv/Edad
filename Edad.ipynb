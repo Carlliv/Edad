{
  "nbformat": 4,
  "nbformat_minor": 0,
  "metadata": {
    "colab": {
      "provenance": [],
      "authorship_tag": "ABX9TyNtJnOBKF8vFiyU+V9Sec7p"
    },
    "kernelspec": {
      "name": "python3",
      "display_name": "Python 3"
    },
    "language_info": {
      "name": "python"
    }
  },
  "cells": [
    {
      "cell_type": "code",
      "execution_count": 6,
      "metadata": {
        "colab": {
          "base_uri": "https://localhost:8080/"
        },
        "id": "qKz7F-sg-EHQ",
        "outputId": "5498041c-6560-43ee-fb9f-e15a1d55c85b"
      },
      "outputs": [
        {
          "output_type": "stream",
          "name": "stdout",
          "text": [
            "Escribe el primer nombre:Juan\n",
            "Escribe su edad: 23\n",
            "Escribe el segundo nombre:Lola\n",
            "Escribe su edad: 15\n",
            "Juan  es mayor con 23  años, Lola  menor con 15  años, ademas de ser solo la primera persona mayor de edad\n"
          ]
        }
      ],
      "source": [
        "nomb1=str(input(\"Escribe el primer nombre:\"))\n",
        "edad1=int(input(\"Escribe su edad: \"))\n",
        "nomb2=str(input(\"Escribe el segundo nombre:\"))\n",
        "edad2=int(input(\"Escribe su edad: \"))\n",
        "\n",
        "while edad1<0 or type(nomb1)!=str or edad2<0 or type(nomb2)!=str:\n",
        "  if edad1<0:\n",
        "    print(\"La primera edad no es correcta, modifiquela\")\n",
        "    int(input(\"Escribe la edad de la primera persona: \"))\n",
        "  elif type(nomb1)!=str:\n",
        "    print(\"El primer nombre no es correcto, modifiquela\")\n",
        "    str(input(\"Escribe el nombre de la primera persona: \"))\n",
        "  if edad2<0:\n",
        "    print(\"La segunda edad no es correcta, modifiquela\")\n",
        "    int(input(\"Escribe la edad de la primera persona: \"))\n",
        "  elif type(nomb2)!=str:\n",
        "    print(\"El segundo nombre no es correcto, modifiquela\")\n",
        "    str(input(\"Escribe el nombre de la primera persona: \"))\n",
        "if edad1>edad2:\n",
        "  if edad1>18 and edad2>18:\n",
        "    print(nomb1,' es mayor con',edad1,' años,', nomb2, ' menor con',edad2,' años, ademas de ser ambos mayores de edad')\n",
        "  elif edad1>18 and edad2<18:\n",
        "    print(nomb1,' es mayor con',edad1,' años,', nomb2, ' menor con',edad2,' años, ademas de ser solo la primera persona mayor de edad')\n",
        "  else:\n",
        "    print(nomb1,' es mayor con',edad1,' años,', nomb2, ' menor con',edad2,' años, ninguno es mayor de edad')\n",
        "elif edad1<edad2:\n",
        "  if edad1>18 and edad2>18:\n",
        "    print(nomb2, ' es mayor con',edad2,' años,', nomb1,' es menor con',edad1,' años, ademas de ser ambos mayores de edad')\n",
        "  elif edad1<18 and edad2>18:\n",
        "    print(nomb2, ' es mayor con',edad2,' años,', nomb1,' es menor con',edad1,' años, ademas de ser solo la segunda persona mayor de edad')\n",
        "  else:\n",
        "    print(nomb2, ' es mayor con',edad2,' años,', nomb1,' es menor con',edad1,' años, ninguno es mayor de edad')\n",
        "elif edad1==edad2:\n",
        "  if edad>18 and edad>18:\n",
        "    print(nomb1,' tiene la misma edad que ', nomb2, ' con edad de',edad2,' años, ademas de ser ambos mayores de edad')\n",
        "  else :\n",
        "    print(nomb1,' tiene la misma edad que ', nomb2, ' con edad de',edad2,' años, ademas de ser ambos menores de edad')"
      ]
    }
  ]
}